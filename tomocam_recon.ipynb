{
 "cells": [
  {
   "cell_type": "code",
   "execution_count": 1,
   "metadata": {
    "tags": []
   },
   "outputs": [],
   "source": [
    "import numexpr as ne\n",
    "import numpy as np\n",
    "import tomocam\n",
    "import tomopy\n",
    "import dxchange as dx\n",
    "import matplotlib.pyplot as plt\n",
    "plt.rcParams['figure.figsize'] = [10, 10]\n",
    "import h5py\n",
    "import os"
   ]
  },
  {
   "cell_type": "code",
   "execution_count": 2,
   "metadata": {},
   "outputs": [],
   "source": [
    "def dXAtts(datafile, beamline='als'):\n",
    "    attrs = dict()\n",
    "    if beamline == 'als':\n",
    "        fp = h5py.File(datafile, 'r')\n",
    "        gdata = dict(dx.reader._find_dataset_group(fp).attrs)\n",
    "        attrs['pxsize']           = float(gdata['pxsize']) / 10  # /10 to convert units from mm to cm\n",
    "        attrs['nslices']          = int(gdata['nslices'])\n",
    "        attrs['nangles']          = int(gdata['nangles'])\n",
    "        attrs['arange']           = float(gdata['arange'])\n",
    "        attrs['nrays']            = int(gdata['nrays'])\n",
    "        attrs['i0cycle']          = int(gdata['i0cycle'])\n",
    "        attrs['num_dark_fields']  = int(gdata['num_dark_fields'])\n",
    "        attrs['ind_dark']         = list(range(0, attrs['num_dark_fields']))\n",
    "        attrs['num_bright_filed'] = int(gdata['num_bright_field'])\n",
    "        attrs['rot_angle']        = float(gdata['rot_angle'])\n",
    "    return attrs"
   ]
  },
  {
   "cell_type": "markdown",
   "metadata": {},
   "source": [
    "# Input"
   ]
  },
  {
   "cell_type": "code",
   "execution_count": 17,
   "metadata": {},
   "outputs": [],
   "source": [
    "filename = '20200624_160459_llzo_stack_no14.h5'\n",
    "inputPath = '/global/u2/d/dkumar/als/tomocam/data'\n",
    "cor = 1279.375\n",
    "inputFile = os.path.join(inputPath, filename)\n",
    "gdata = dXAtts(inputFile)"
   ]
  },
  {
   "cell_type": "markdown",
   "metadata": {},
   "source": [
    "# Output "
   ]
  },
  {
   "cell_type": "code",
   "execution_count": 18,
   "metadata": {},
   "outputs": [],
   "source": [
    "outputPath = '/global/u2/d/dkumar/als/tomocam/recon'\n",
    "if not os.path.isdir(outputPath):\n",
    "    os.makedirs(outputPath)\n",
    "outputFile = os.path.join(outputPath, filename)"
   ]
  },
  {
   "cell_type": "markdown",
   "metadata": {},
   "source": [
    "# Load data"
   ]
  },
  {
   "cell_type": "code",
   "execution_count": 21,
   "metadata": {},
   "outputs": [
    {
     "name": "stdout",
     "output_type": "stream",
     "text": [
      "(354, 362, 1)\n"
     ]
    }
   ],
   "source": [
    "import warnings\n",
    "warnings.filterwarnings(\"ignore\", category=FutureWarning)\n",
    "\n",
    "sinoUsed = (gdata['nslices']//2, gdata['nslices']//2 + 8, 1)\n",
    "print(sinoUsed)\n",
    "proj, flat, dark, ind = dx.read_als_832h5(inputFile, sino=sinoUsed)\n",
    "proj = proj.astype(np.float32)"
   ]
  },
  {
   "cell_type": "markdown",
   "metadata": {},
   "source": [
    "# Projection angles"
   ]
  },
  {
   "cell_type": "code",
   "execution_count": 22,
   "metadata": {},
   "outputs": [
    {
     "name": "stdout",
     "output_type": "stream",
     "text": [
      "[4.712389  4.7099943 4.7076    ... 1.5755854 1.5731908 1.5707964]\n"
     ]
    }
   ],
   "source": [
    "offset = 0\n",
    "angle_offset = 270 + offset\n",
    "gdata = dXAtts(inputFile)\n",
    "theta = tomopy.angles(gdata['nangles'], angle_offset, angle_offset - gdata['arange']).astype(np.float32)\n",
    "print(theta)"
   ]
  },
  {
   "cell_type": "markdown",
   "metadata": {},
   "source": [
    "## Normalize and minus-log"
   ]
  },
  {
   "cell_type": "code",
   "execution_count": 23,
   "metadata": {},
   "outputs": [],
   "source": [
    "proj = tomopy.normalize(proj, flat, dark, out=proj)\n",
    "minimum_transmission = 0.01\n",
    "mx = np.float32(minimum_transmission)\n",
    "ne.evaluate('where(proj>mx, proj, mx)', out=proj)\n",
    "proj = tomopy.minus_log(proj)"
   ]
  },
  {
   "cell_type": "markdown",
   "metadata": {},
   "source": [
    "# Remove stripes"
   ]
  },
  {
   "cell_type": "code",
   "execution_count": 24,
   "metadata": {},
   "outputs": [],
   "source": [
    "proj = tomopy.prep.stripe.remove_stripe_fw(proj, level = 7, sigma = 3)"
   ]
  },
  {
   "cell_type": "code",
   "execution_count": 25,
   "metadata": {},
   "outputs": [],
   "source": [
    "sino = np.transpose(proj, [1, 0, 2]).astype(np.float32)"
   ]
  },
  {
   "cell_type": "markdown",
   "metadata": {},
   "source": [
    "# Reconstruct object using MBIR"
   ]
  },
  {
   "cell_type": "code",
   "execution_count": null,
   "metadata": {
    "scrolled": true,
    "tags": []
   },
   "outputs": [
    {
     "name": "stdout",
     "output_type": "stream",
     "text": [
      "Iteration:   0 , Error:  1266.4805908203125\n",
      "Iteration:   1 , Error:  974.9500732421875\n",
      "Iteration:   2 , Error:  973.0823364257812\n",
      "Iteration:   3 , Error:  970.6824951171875\n",
      "Iteration:   4 , Error:  967.7884521484375\n",
      "Iteration:   5 , Error:  964.4487915039062\n",
      "Iteration:   6 , Error:  960.9598999023438\n",
      "Iteration:   7 , Error:  957.3955078125\n",
      "Iteration:   8 , Error:  953.5689086914062\n",
      "Iteration:   9 , Error:  949.2366943359375\n",
      "Iteration:   10 , Error:  944.5144653320312\n",
      "Iteration:   11 , Error:  939.2098388671875\n",
      "Iteration:   12 , Error:  933.3673095703125\n",
      "Iteration:   13 , Error:  926.6485595703125\n",
      "Iteration:   14 , Error:  919.06591796875\n",
      "Iteration:   15 , Error:  910.2281494140625\n",
      "Iteration:   16 , Error:  901.0061645507812\n",
      "Iteration:   17 , Error:  890.9125366210938\n",
      "Iteration:   18 , Error:  880.8720703125\n",
      "Iteration:   19 , Error:  872.1676025390625\n",
      "Iteration:   20 , Error:  862.9993286132812\n",
      "Iteration:   21 , Error:  854.4299926757812\n",
      "Iteration:   22 , Error:  845.5486450195312\n",
      "Iteration:   23 , Error:  836.197509765625\n",
      "Iteration:   24 , Error:  824.78515625\n",
      "Iteration:   25 , Error:  811.2623291015625\n",
      "Iteration:   26 , Error:  797.4141845703125\n",
      "Iteration:   27 , Error:  786.762451171875\n",
      "Iteration:   28 , Error:  776.192138671875\n",
      "Iteration:   29 , Error:  765.4253540039062\n",
      "Iteration:   30 , Error:  754.1276245117188\n",
      "Iteration:   31 , Error:  741.38427734375\n",
      "Iteration:   32 , Error:  727.01416015625\n",
      "Iteration:   33 , Error:  711.4718017578125\n",
      "Iteration:   34 , Error:  697.5097045898438\n",
      "Iteration:   35 , Error:  685.4768676757812\n",
      "Iteration:   36 , Error:  672.9906616210938\n",
      "Iteration:   37 , Error:  661.2747192382812\n",
      "Iteration:   38 , Error:  647.93603515625\n",
      "Iteration:   39 , Error:  632.8665771484375\n",
      "Iteration:   40 , Error:  617.0653686523438\n",
      "Iteration:   41 , Error:  603.5459594726562\n",
      "Iteration:   42 , Error:  590.2809448242188\n",
      "Iteration:   43 , Error:  574.702392578125\n",
      "Iteration:   44 , Error:  557.9810791015625\n",
      "Iteration:   45 , Error:  544.6565551757812\n",
      "Iteration:   46 , Error:  531.7802734375\n",
      "Iteration:   47 , Error:  517.518310546875\n",
      "Iteration:   48 , Error:  501.2614440917969\n",
      "Iteration:   49 , Error:  485.5611572265625\n",
      "Iteration:   50 , Error:  472.78961181640625\n",
      "Iteration:   51 , Error:  459.1532897949219\n",
      "Iteration:   52 , Error:  444.2897644042969\n",
      "Iteration:   53 , Error:  429.5232238769531\n",
      "Iteration:   54 , Error:  415.10491943359375\n",
      "Iteration:   55 , Error:  399.6031494140625\n",
      "Iteration:   56 , Error:  386.09564208984375\n",
      "Iteration:   57 , Error:  372.45660400390625\n",
      "Iteration:   58 , Error:  357.9781494140625\n",
      "Iteration:   59 , Error:  344.0654296875\n",
      "Iteration:   60 , Error:  330.453369140625\n",
      "Iteration:   61 , Error:  316.906494140625\n",
      "Iteration:   62 , Error:  303.3728942871094\n",
      "Iteration:   63 , Error:  290.2215576171875\n",
      "Iteration:   64 , Error:  276.62066650390625\n",
      "Iteration:   65 , Error:  264.3420715332031\n",
      "Iteration:   66 , Error:  250.4871063232422\n",
      "Iteration:   67 , Error:  238.36880493164062\n",
      "Iteration:   68 , Error:  226.39364624023438\n",
      "Iteration:   69 , Error:  213.77151489257812\n",
      "Iteration:   70 , Error:  202.0245361328125\n",
      "Iteration:   71 , Error:  190.32608032226562\n",
      "Iteration:   72 , Error:  178.9212188720703\n",
      "Iteration:   73 , Error:  167.69911193847656\n",
      "Iteration:   74 , Error:  156.9988555908203\n",
      "Iteration:   75 , Error:  146.55348205566406\n",
      "Iteration:   76 , Error:  136.32601928710938\n",
      "Iteration:   77 , Error:  126.32305145263672\n",
      "Iteration:   78 , Error:  116.9702377319336\n",
      "Iteration:   79 , Error:  107.81980895996094\n",
      "Iteration:   80 , Error:  99.18252563476562\n",
      "Iteration:   81 , Error:  90.8633041381836\n",
      "Iteration:   82 , Error:  83.16959381103516\n",
      "Iteration:   83 , Error:  76.0120620727539\n",
      "Iteration:   84 , Error:  69.34598541259766\n",
      "Iteration:   85 , Error:  63.373146057128906\n",
      "Iteration:   86 , Error:  58.14616012573242\n",
      "Iteration:   87 , Error:  53.757694244384766\n",
      "Iteration:   88 , Error:  50.20680236816406\n",
      "Iteration:   89 , Error:  47.66217803955078\n",
      "Iteration:   90 , Error:  46.091514587402344\n",
      "Iteration:   91 , Error:  45.51925277709961\n",
      "Iteration:   92 , Error:  45.7929801940918\n",
      "Iteration:   93 , Error:  46.8559684753418\n",
      "Iteration:   94 , Error:  48.44998550415039\n",
      "Iteration:   95 , Error:  50.51438522338867\n",
      "Iteration:   96 , Error:  52.812164306640625\n",
      "Iteration:   97 , Error:  55.333274841308594\n",
      "Iteration:   98 , Error:  57.93574523925781\n",
      "Iteration:   99 , Error:  60.50984191894531\n",
      "Iteration:   100 , Error:  63.05474090576172\n",
      "Iteration:   101 , Error:  65.5211410522461\n",
      "Iteration:   102 , Error:  67.82430267333984\n",
      "Iteration:   103 , Error:  70.01741027832031\n",
      "Iteration:   104 , Error:  71.99920654296875\n",
      "Iteration:   105 , Error:  73.79789733886719\n",
      "Iteration:   106 , Error:  75.44129180908203\n",
      "Iteration:   107 , Error:  76.8873519897461\n",
      "Iteration:   108 , Error:  78.12055206298828\n",
      "Iteration:   109 , Error:  79.15483856201172\n",
      "Iteration:   110 , Error:  79.97699737548828\n",
      "Iteration:   111 , Error:  80.58940124511719\n",
      "Iteration:   112 , Error:  80.99232482910156\n",
      "Iteration:   113 , Error:  81.19153594970703\n",
      "Iteration:   114 , Error:  81.19522857666016\n",
      "Iteration:   115 , Error:  81.00028991699219\n",
      "Iteration:   116 , Error:  80.63018798828125\n",
      "Iteration:   117 , Error:  80.07061004638672\n",
      "Iteration:   118 , Error:  79.30977630615234\n",
      "Iteration:   119 , Error:  78.40196228027344\n",
      "Iteration:   120 , Error:  77.32393646240234\n",
      "Iteration:   121 , Error:  76.107666015625\n",
      "Iteration:   122 , Error:  74.67981719970703\n",
      "Iteration:   123 , Error:  73.10333251953125\n",
      "Iteration:   124 , Error:  71.44767761230469\n",
      "Iteration:   125 , Error:  69.64237213134766\n",
      "Iteration:   126 , Error:  67.69686889648438\n",
      "Iteration:   127 , Error:  65.6439208984375\n",
      "Iteration:   128 , Error:  63.53712844848633\n",
      "Iteration:   129 , Error:  61.278350830078125\n",
      "Iteration:   130 , Error:  58.945560455322266\n",
      "Iteration:   131 , Error:  56.58272933959961\n",
      "Iteration:   132 , Error:  54.197662353515625\n",
      "Iteration:   133 , Error:  51.697227478027344\n",
      "Iteration:   134 , Error:  49.2031364440918\n",
      "Iteration:   135 , Error:  46.758460998535156\n",
      "Iteration:   136 , Error:  44.342037200927734\n",
      "Iteration:   137 , Error:  41.947914123535156\n",
      "Iteration:   138 , Error:  39.61994552612305\n",
      "Iteration:   139 , Error:  37.45288848876953\n",
      "Iteration:   140 , Error:  35.456451416015625\n",
      "Iteration:   141 , Error:  33.634002685546875\n",
      "Iteration:   142 , Error:  32.087005615234375\n",
      "Iteration:   143 , Error:  30.853517532348633\n",
      "Iteration:   144 , Error:  29.958585739135742\n",
      "Iteration:   145 , Error:  29.46381378173828\n",
      "Iteration:   146 , Error:  29.427108764648438\n",
      "Iteration:   147 , Error:  29.795286178588867\n",
      "Iteration:   148 , Error:  30.584077835083008\n",
      "Iteration:   149 , Error:  31.690298080444336\n",
      "Iteration:   150 , Error:  33.15147018432617\n",
      "Iteration:   151 , Error:  34.92669677734375\n",
      "Iteration:   152 , Error:  36.91027069091797\n",
      "Iteration:   153 , Error:  39.08253860473633\n",
      "Iteration:   154 , Error:  41.38832473754883\n",
      "Iteration:   155 , Error:  43.73335266113281\n",
      "Iteration:   156 , Error:  46.2330436706543\n",
      "Iteration:   157 , Error:  48.79686737060547\n",
      "Iteration:   158 , Error:  51.35944366455078\n",
      "Iteration:   159 , Error:  53.909912109375\n",
      "Iteration:   160 , Error:  56.457298278808594\n",
      "Iteration:   161 , Error:  58.9983024597168\n",
      "Iteration:   162 , Error:  61.51131820678711\n",
      "Iteration:   163 , Error:  63.9515380859375\n",
      "Iteration:   164 , Error:  66.31343841552734\n",
      "Iteration:   165 , Error:  68.6728286743164\n",
      "Iteration:   166 , Error:  70.99043273925781\n",
      "Iteration:   167 , Error:  73.27986145019531\n",
      "Iteration:   168 , Error:  75.4236831665039\n",
      "Iteration:   169 , Error:  77.46017456054688\n",
      "Iteration:   170 , Error:  79.37190246582031\n",
      "Iteration:   171 , Error:  81.18922424316406\n",
      "Iteration:   172 , Error:  82.9501953125\n",
      "Iteration:   173 , Error:  84.66499328613281\n",
      "Iteration:   174 , Error:  86.27059936523438\n",
      "Iteration:   175 , Error:  87.83378601074219\n",
      "Iteration:   176 , Error:  89.30665588378906\n",
      "Iteration:   177 , Error:  90.68138122558594\n",
      "Iteration:   178 , Error:  91.93318939208984\n",
      "Iteration:   179 , Error:  93.05497741699219\n",
      "Iteration:   180 , Error:  94.04934692382812\n",
      "Iteration:   181 , Error:  94.9188461303711\n",
      "Iteration:   182 , Error:  95.68181610107422\n",
      "Iteration:   183 , Error:  96.3416976928711\n",
      "Iteration:   184 , Error:  96.90691375732422\n",
      "Iteration:   185 , Error:  97.37835693359375\n",
      "Iteration:   186 , Error:  97.74860382080078\n",
      "Iteration:   187 , Error:  98.01627349853516\n",
      "Iteration:   188 , Error:  98.18465423583984\n",
      "Iteration:   189 , Error:  98.25611877441406\n",
      "Iteration:   190 , Error:  98.23289489746094\n",
      "Iteration:   191 , Error:  98.11759185791016\n",
      "Iteration:   192 , Error:  97.91372680664062\n",
      "Iteration:   193 , Error:  97.62216186523438\n",
      "Iteration:   194 , Error:  97.24472045898438\n",
      "Iteration:   195 , Error:  96.78067779541016\n",
      "Iteration:   196 , Error:  96.22698211669922\n",
      "Iteration:   197 , Error:  95.58260345458984\n",
      "Iteration:   198 , Error:  94.85282135009766\n",
      "Iteration:   199 , Error:  94.04332733154297\n",
      "Iteration:   200 , Error:  93.15907287597656\n",
      "Iteration:   201 , Error:  92.20111083984375\n",
      "Iteration:   202 , Error:  91.15850067138672\n",
      "Iteration:   203 , Error:  90.02932739257812\n",
      "Iteration:   204 , Error:  88.83148956298828\n",
      "Iteration:   205 , Error:  87.57745361328125\n",
      "Iteration:   206 , Error:  86.31366729736328\n",
      "Iteration:   207 , Error:  85.0269775390625\n",
      "Iteration:   208 , Error:  83.68814849853516\n",
      "Iteration:   209 , Error:  82.3006591796875\n",
      "Iteration:   210 , Error:  80.87052917480469\n",
      "Iteration:   211 , Error:  79.37715148925781\n",
      "Iteration:   212 , Error:  77.84820556640625\n",
      "Iteration:   213 , Error:  76.34754180908203\n",
      "Iteration:   214 , Error:  74.83453369140625\n",
      "Iteration:   215 , Error:  73.29109954833984\n",
      "Iteration:   216 , Error:  71.71192169189453\n",
      "Iteration:   217 , Error:  70.02462768554688\n",
      "Iteration:   218 , Error:  68.30644226074219\n",
      "Iteration:   219 , Error:  66.64800262451172\n",
      "Iteration:   220 , Error:  65.0275650024414\n",
      "Iteration:   221 , Error:  63.406517028808594\n",
      "Iteration:   222 , Error:  61.79219055175781\n",
      "Iteration:   223 , Error:  60.17824172973633\n",
      "Iteration:   224 , Error:  58.57376480102539\n",
      "Iteration:   225 , Error:  56.95906448364258\n",
      "Iteration:   226 , Error:  55.33210372924805\n",
      "Iteration:   227 , Error:  53.74043273925781\n",
      "Iteration:   228 , Error:  52.21806335449219\n",
      "Iteration:   229 , Error:  50.7396354675293\n",
      "Iteration:   230 , Error:  49.29624557495117\n",
      "Iteration:   231 , Error:  47.86687088012695\n",
      "Iteration:   232 , Error:  46.47488784790039\n",
      "Iteration:   233 , Error:  45.133975982666016\n",
      "Iteration:   234 , Error:  43.83679962158203\n",
      "Iteration:   235 , Error:  42.553314208984375\n",
      "Iteration:   236 , Error:  41.29848861694336\n",
      "Iteration:   237 , Error:  40.116172790527344\n",
      "Iteration:   238 , Error:  38.987308502197266\n",
      "Iteration:   239 , Error:  37.912574768066406\n",
      "Iteration:   240 , Error:  36.9127197265625\n",
      "Iteration:   241 , Error:  35.97039031982422\n",
      "Iteration:   242 , Error:  35.05884552001953\n",
      "Iteration:   243 , Error:  34.191551208496094\n",
      "Iteration:   244 , Error:  33.378753662109375\n",
      "Iteration:   245 , Error:  32.627986907958984\n",
      "Iteration:   246 , Error:  31.945573806762695\n",
      "Iteration:   247 , Error:  31.32512855529785\n",
      "Iteration:   248 , Error:  30.76510238647461\n",
      "Iteration:   249 , Error:  30.250335693359375\n",
      "Iteration:   250 , Error:  29.78046417236328\n",
      "Iteration:   251 , Error:  29.352529525756836\n",
      "Iteration:   252 , Error:  28.963151931762695\n",
      "Iteration:   253 , Error:  28.613378524780273\n",
      "Iteration:   254 , Error:  28.309707641601562\n",
      "Iteration:   255 , Error:  28.045719146728516\n",
      "Iteration:   256 , Error:  27.821090698242188\n"
     ]
    }
   ],
   "source": [
    "s = 0.085   \n",
    "max_iters = 1000\n",
    "recon = tomocam.MBIR(sino, theta, center = cor, num_iters = max_iters, smoothness = s)"
   ]
  },
  {
   "cell_type": "markdown",
   "metadata": {},
   "source": [
    "# Mask each reconstructed slice with a circle."
   ]
  },
  {
   "cell_type": "code",
   "execution_count": 15,
   "metadata": {},
   "outputs": [],
   "source": [
    "recon = tomopy.circ_mask(recon, axis=0, ratio=0.95)"
   ]
  },
  {
   "cell_type": "markdown",
   "metadata": {},
   "source": [
    "# Show results"
   ]
  },
  {
   "cell_type": "code",
   "execution_count": 16,
   "metadata": {},
   "outputs": [
    {
     "data": {
      "text/plain": [
       "<matplotlib.image.AxesImage at 0x2aab32d3d940>"
      ]
     },
     "execution_count": 16,
     "metadata": {},
     "output_type": "execute_result"
    },
    {
     "data": {
      "image/png": "[encoded data removed]",
      "text/plain": [
       "<Figure size 720x720 with 1 Axes>"
      ]
     },
     "metadata": {
      "needs_background": "light"
     },
     "output_type": "display_data"
    }
   ],
   "source": [
    "plt.imshow(recon[0], origin='lower', cmap='gray')"
   ]
  },
  {
   "cell_type": "markdown",
   "metadata": {},
   "source": [
    "# Save to hdf5"
   ]
  },
  {
   "cell_type": "code",
   "execution_count": null,
   "metadata": {},
   "outputs": [],
   "source": [
    "with h5py.File(outputFile, 'w') as fp:\n",
    "    dset = fp.create_dataset('recon', data = recon)\n",
    "    dset.attrs['smoothness'] = s\n",
    "    dset.attrs['num_iters'] = max_iters\n",
    "    dset.attrs['remove_stripe_fw'] = 'level : 7, sigma: 3'\n",
    "    dset.attrs['minimum_transmission'] = minimum_transmission"
   ]
  },
  {
   "cell_type": "code",
   "execution_count": null,
   "metadata": {},
   "outputs": [],
   "source": []
  }
 ],
 "metadata": {
  "kernelspec": {
   "display_name": "tomocam",
   "language": "python",
   "name": "tomocam"
  },
  "language_info": {
   "codemirror_mode": {
    "name": "ipython",
    "version": 3
   },
   "file_extension": ".py",
   "mimetype": "text/x-python",
   "name": "python",
   "nbconvert_exporter": "python",
   "pygments_lexer": "ipython3",
   "version": "3.8.8"
  }
 },
 "nbformat": 4,
 "nbformat_minor": 4
}
